{
  "cells": [
    {
      "cell_type": "code",
      "execution_count": null,
      "metadata": {
        "colab": {
          "base_uri": "https://localhost:8080/"
        },
        "id": "btWpIS_UwGa0",
        "outputId": "e4e7fdc2-a170-453a-e05e-3801f309e640"
      },
      "outputs": [
        {
          "output_type": "stream",
          "name": "stdout",
          "text": [
            "Requirement already satisfied: kaggle in /usr/local/lib/python3.10/dist-packages (1.5.16)\n",
            "Requirement already satisfied: six>=1.10 in /usr/local/lib/python3.10/dist-packages (from kaggle) (1.16.0)\n",
            "Requirement already satisfied: certifi in /usr/local/lib/python3.10/dist-packages (from kaggle) (2023.7.22)\n",
            "Requirement already satisfied: python-dateutil in /usr/local/lib/python3.10/dist-packages (from kaggle) (2.8.2)\n",
            "Requirement already satisfied: requests in /usr/local/lib/python3.10/dist-packages (from kaggle) (2.31.0)\n",
            "Requirement already satisfied: tqdm in /usr/local/lib/python3.10/dist-packages (from kaggle) (4.66.1)\n",
            "Requirement already satisfied: python-slugify in /usr/local/lib/python3.10/dist-packages (from kaggle) (8.0.1)\n",
            "Requirement already satisfied: urllib3 in /usr/local/lib/python3.10/dist-packages (from kaggle) (2.0.6)\n",
            "Requirement already satisfied: bleach in /usr/local/lib/python3.10/dist-packages (from kaggle) (6.1.0)\n",
            "Requirement already satisfied: webencodings in /usr/local/lib/python3.10/dist-packages (from bleach->kaggle) (0.5.1)\n",
            "Requirement already satisfied: text-unidecode>=1.3 in /usr/local/lib/python3.10/dist-packages (from python-slugify->kaggle) (1.3)\n",
            "Requirement already satisfied: charset-normalizer<4,>=2 in /usr/local/lib/python3.10/dist-packages (from requests->kaggle) (3.3.0)\n",
            "Requirement already satisfied: idna<4,>=2.5 in /usr/local/lib/python3.10/dist-packages (from requests->kaggle) (3.4)\n",
            "Downloading unsupervised-learning-m2023.zip to /content\n",
            " 94% 136M/144M [00:01<00:00, 132MB/s]\n",
            "100% 144M/144M [00:01<00:00, 126MB/s]\n",
            "Archive:  unsupervised-learning-m2023.zip\n",
            "  inflating: Test.csv                \n",
            "  inflating: Train.csv               \n"
          ]
        }
      ],
      "source": [
        "! pip install kaggle\n",
        "! mkdir ~/.kaggle\n",
        "! cp kaggle.json ~/.kaggle/\n",
        "! chmod 600 ~/.kaggle/kaggle.json\n",
        "! kaggle competitions download -c unsupervised-learning-m2023\n",
        "! unzip unsupervised-learning-m2023.zip"
      ]
    },
    {
      "cell_type": "code",
      "execution_count": null,
      "metadata": {
        "id": "2Htj52XvxPFo"
      },
      "outputs": [],
      "source": [
        "import pandas as pd\n",
        "import numpy as np\n",
        "import matplotlib.pyplot as plt\n",
        "import scipy.stats as stats\n",
        "from scipy.fft import fft, fftfreq, ifft\n",
        "# from numba import jit"
      ]
    },
    {
      "cell_type": "code",
      "execution_count": null,
      "metadata": {
        "id": "Sn-yWASIutqj"
      },
      "outputs": [],
      "source": [
        "from sklearn.preprocessing import StandardScaler\n",
        "from sklearn.decomposition import PCA\n",
        "from sklearn.neighbors import NearestNeighbors"
      ]
    },
    {
      "cell_type": "code",
      "execution_count": null,
      "metadata": {
        "id": "d3SNYk5wwyiF"
      },
      "outputs": [],
      "source": [
        "train_data = pd.read_csv('Train.csv')\n",
        "inputX = train_data.to_numpy()"
      ]
    },
    {
      "cell_type": "markdown",
      "metadata": {
        "id": "CxNTeI2GDL3p"
      },
      "source": [
        "Basically each sensors has 152 entries, that each activity for each person enumerating to total 19 for 8 person\n",
        "Summing upto 6840"
      ]
    },
    {
      "cell_type": "markdown",
      "metadata": {
        "id": "4a7UwQdoDSaF"
      },
      "source": [
        "Unique Sensors: array(['T-xacc', 'T-yacc', 'T-zacc', 'T-xgyro', 'T-ygyro' 'T-zgyro',\n",
        "       'T-xmag', 'T-ymag', 'T-zmag', 'RA-xacc', 'RA-yacc', 'RA-zacc',\n",
        "       'RA-xgyro', 'RA-ygyro', 'RA-zgyro', 'RA-xmag', 'RA-ymag',\n",
        "       'RA-zmag', 'LA-xacc', 'LA-yacc', 'LA-zacc', 'LA-xgyro', 'LA-ygyro',\n",
        "       'LA-zgyro', 'LA-xmag', 'LA-ymag', 'LA-zmag', 'RL-xacc', 'RL-yacc',\n",
        "       'RL-zacc', 'RL-xgyro', 'RL-ygyro', 'RL-zgyro', 'RL-xmag',\n",
        "       'RL-ymag', 'RL-zmag', 'LL-xacc', 'LL-yacc', 'LL-zacc', 'LL-xgyro',\n",
        "       'LL-ygyro', 'LL-zgyro', 'LL-xmag', 'LL-ymag', 'LL-zmag'],\n",
        "      dtype=object)"
      ]
    },
    {
      "cell_type": "code",
      "execution_count": null,
      "metadata": {
        "id": "KV3MLZE7loXE"
      },
      "outputs": [],
      "source": [
        "numData = inputX[:,0:len(inputX[0])-2]\n",
        "numData = numData.astype(float)\n",
        "strData = inputX[:,-2:]\n",
        "numdata = numData.reshape(-1,125)"
      ]
    },
    {
      "cell_type": "code",
      "execution_count": null,
      "metadata": {
        "colab": {
          "base_uri": "https://localhost:8080/"
        },
        "id": "EGeGx1KaH73W",
        "outputId": "e40a6bb6-4431-4be8-9230-0379e8102cc0"
      },
      "outputs": [
        {
          "output_type": "stream",
          "name": "stdout",
          "text": [
            "(342000, 125)\n"
          ]
        }
      ],
      "source": [
        "print(numdata.shape)"
      ]
    },
    {
      "cell_type": "code",
      "execution_count": null,
      "metadata": {
        "id": "tkr67MzNl_tZ"
      },
      "outputs": [],
      "source": [
        "corr1 = []\n",
        "corr2 = []\n",
        "corr3 = []\n",
        "corr4 = []\n",
        "corr5 = []\n",
        "corr6 = []\n",
        "corr7 = []\n",
        "corr8 = []\n",
        "corr9 = []\n",
        "corr10 = []\n",
        "corr11 = []\n",
        "corr12 = []\n",
        "corr13 = []\n",
        "corr14 = []\n",
        "corr15 = []\n",
        "\n",
        "fft1 = []\n",
        "fft2 = []\n",
        "fft3 = []\n",
        "fft4 = []\n",
        "fft5 = []\n",
        "fft6 = []\n",
        "fft7 = []\n",
        "fft8 = []\n",
        "fft9 = []\n",
        "fft10 = []\n",
        "fft11 = []\n",
        "fft12 = []\n",
        "fft13 = []\n",
        "fft14 = []\n",
        "fft15 = []\n",
        "\n",
        "\n",
        "for i in numdata:\n",
        "    autocorrelation = np.correlate(i,i,mode='full')/np.std(i)*len(i)\n",
        "    fourier = np.abs(np.fft.fft(i))\n",
        "\n",
        "    corr1.append(autocorrelation[0])\n",
        "    corr2.append(autocorrelation[1])\n",
        "    corr3.append(autocorrelation[2])\n",
        "    corr4.append(autocorrelation[3])\n",
        "    corr5.append(autocorrelation[4])\n",
        "    corr6.append(autocorrelation[5])\n",
        "    corr7.append(autocorrelation[6])\n",
        "    corr8.append(autocorrelation[7])\n",
        "    corr9.append(autocorrelation[8])\n",
        "    corr10.append(autocorrelation[9])\n",
        "    corr11.append(autocorrelation[10])\n",
        "    corr12.append(autocorrelation[11])\n",
        "    corr13.append(autocorrelation[12])\n",
        "    corr14.append(autocorrelation[13])\n",
        "    corr15.append(autocorrelation[14])\n",
        "\n",
        "    fft1.append(fourier[0])\n",
        "    fft2.append(fourier[1])\n",
        "    fft3.append(fourier[2])\n",
        "    fft4.append(fourier[3])\n",
        "    fft5.append(fourier[4])\n",
        "    fft6.append(fourier[5])\n",
        "    fft7.append(fourier[6])\n",
        "    fft8.append(fourier[7])\n",
        "    fft9.append(fourier[8])\n",
        "    fft10.append(fourier[9])\n",
        "    fft11.append(fourier[10])\n",
        "    fft12.append(fourier[11])\n",
        "    fft13.append(fourier[12])\n",
        "    fft14.append(fourier[13])\n",
        "    fft15.append(fourier[14])\n"
      ]
    },
    {
      "cell_type": "code",
      "execution_count": null,
      "metadata": {
        "id": "DwS36R_aSL6Q",
        "colab": {
          "base_uri": "https://localhost:8080/"
        },
        "outputId": "2479bacc-ec4f-457d-a50e-3a35f85ddcd4"
      },
      "outputs": [
        {
          "output_type": "stream",
          "name": "stdout",
          "text": [
            "(342000, 2)\n"
          ]
        }
      ],
      "source": [
        "strdata = np.array([])\n",
        "for i in strData:\n",
        "    strdata = np.append(strdata,np.tile(i,50))\n",
        "strdata = strdata.reshape(-1,2)\n",
        "print(strdata.shape)"
      ]
    },
    {
      "cell_type": "code",
      "execution_count": null,
      "metadata": {
        "id": "dtatgZP266oM"
      },
      "outputs": [],
      "source": [
        "def cree(numdata):\n",
        "    FEATURES = ['NC','PC','IQR','MEDIAN','MIN','MAX','MEAN','RMS','STD','POWER','PEAK','P2P',\n",
        "                'MAX_f','SUM_f','MEAN_f','VAR_f','PEAK_f',\n",
        "                'C1', 'C2', 'C3', 'C4', 'C5', 'C6', 'C7', 'C8', 'C9', 'C10', 'C11', 'C12', 'C13', 'C14', 'C15',\n",
        "                'F1', 'F2', 'F3', 'F4', 'F5', 'F6', 'F7', 'F8', 'F9', 'F10', 'F11', 'F12', 'F13', 'F14', 'F15']\n",
        "\n",
        "    Min=[];Max=[];Mean=[];Rms=[];Var=[];Std=[];Power=[];Peak=[];Skew=[];Kurtosis=[];P2p=[]\n",
        "    Max_f=[];Sum_f=[];Mean_f=[];Var_f=[];Peak_f=[]\n",
        "    Median = []\n",
        "    Iqr = []\n",
        "    nc = []\n",
        "    pc = []\n",
        "\n",
        "    # skew, kurtosis, area under curve\n",
        "\n",
        "    for i in numdata:\n",
        "        X = i\n",
        "\n",
        "        nc.append(np.sum(X<0))\n",
        "        pc.append(np.sum(X>0))\n",
        "        Iqr.append(np.percentile(X,75) - np.percentile(X,25))\n",
        "        Median.append(np.median(X))\n",
        "        Min.append(np.min(X))\n",
        "        Max.append(np.max(X))\n",
        "        Mean.append(np.mean(X))\n",
        "        Rms.append(np.sqrt(np.mean(X**2)))\n",
        "        # Var.append(np.var(X))\n",
        "        Std.append(np.std(X))\n",
        "        Power.append(np.mean(X**2))\n",
        "        Peak.append(np.max(np.abs(X)))\n",
        "        P2p.append(np.ptp(X))\n",
        "        # CrestFactor.append(np.max(np.abs(X))/np.sqrt(np.mean(X**2)))\n",
        "        # Skew.append(stats.skew(X))\n",
        "        # Kurtosis.append(stats.kurtosis(X))\n",
        "        # FormFactor.append(np.sqrt(np.mean(X**2))/np.mean(X))\n",
        "        # PulseIndicator.append(np.max(np.abs(X))/np.mean(X))\n",
        "        ft = fft(X)\n",
        "        S = np.abs(ft**2)/342000\n",
        "        Max_f.append(np.max(S))\n",
        "        Sum_f.append(np.sum(S))\n",
        "        Mean_f.append(np.mean(S))\n",
        "        Var_f.append(np.var(S))\n",
        "        Peak_f.append(np.max(np.abs(S)))\n",
        "        # Skew_f.append(stats.skew(X))\n",
        "        # Kurtosis_f.append(stats.kurtosis(X))\n",
        "\n",
        "        #Normalization\n",
        "\n",
        "    temp_frame = pd.DataFrame(index = [FEATURES],\n",
        "                                data = [nc,pc,Iqr,Median,Min,Max,Mean,Rms,Std,Power,Peak,P2p,\n",
        "                                        Max_f,Sum_f,Mean_f,Var_f,Peak_f,\n",
        "                                        corr1, corr2, corr3, corr4, corr5, corr6, corr7, corr8, corr9, corr10, corr11, corr12, corr13, corr14, corr15,\n",
        "                                        fft1, fft2, fft3, fft4, fft5, fft6, fft7, fft8, fft9, fft10, fft11, fft12, fft13, fft14, fft15])\n",
        "    return temp_frame"
      ]
    },
    {
      "cell_type": "code",
      "execution_count": null,
      "metadata": {
        "colab": {
          "base_uri": "https://localhost:8080/"
        },
        "id": "ODz_6jBr66j3",
        "outputId": "ef310ae6-fc0c-49b4-c663-918faa7d55f9"
      },
      "outputs": [
        {
          "output_type": "stream",
          "name": "stdout",
          "text": [
            "(342000, 47)\n"
          ]
        }
      ],
      "source": [
        "temp_frame = cree(numdata)\n",
        "transformed_input = temp_frame.to_numpy()\n",
        "transformed_input = transformed_input.T\n",
        "print(transformed_input.shape)"
      ]
    },
    {
      "cell_type": "markdown",
      "metadata": {
        "id": "_D3_w-H8GJKc"
      },
      "source": [
        "So now we have instead of 6840x6250 data. We have changed it more traning points that is 342000. and also reduced the features significantly to 15. Now we have to group the data points based on the sensors. Create specific models based on the sensors and learn to apply KNN.  "
      ]
    },
    {
      "cell_type": "code",
      "execution_count": null,
      "metadata": {
        "id": "Ykmh9TLAGmiu"
      },
      "outputs": [],
      "source": [
        "new_array = np.hstack((transformed_input, strdata))\n",
        "new_frame = pd.DataFrame(data = new_array)"
      ]
    },
    {
      "cell_type": "code",
      "execution_count": null,
      "metadata": {
        "id": "TOq_cZgR66Xe"
      },
      "outputs": [],
      "source": [
        "sensor_names = ['T-xacc', 'T-yacc', 'T-zacc', 'T-xgyro', 'T-ygyro', 'T-zgyro', 'T-xmag', 'T-ymag', 'T-zmag',\n",
        "                'RA-xacc', 'RA-yacc', 'RA-zacc', 'RA-xgyro', 'RA-ygyro', 'RA-zgyro', 'RA-xmag', 'RA-ymag', 'RA-zmag',\n",
        "                'LA-xacc', 'LA-yacc', 'LA-zacc', 'LA-xgyro', 'LA-ygyro', 'LA-zgyro', 'LA-xmag', 'LA-ymag', 'LA-zmag',\n",
        "                'RL-xacc', 'RL-yacc', 'RL-zacc', 'RL-xgyro', 'RL-ygyro', 'RL-zgyro', 'RL-xmag', 'RL-ymag', 'RL-zmag',\n",
        "                'LL-xacc', 'LL-yacc', 'LL-zacc', 'LL-xgyro', 'LL-ygyro', 'LL-zgyro', 'LL-xmag', 'LL-ymag', 'LL-zmag']\n",
        "\n",
        "sensor_lists = {sensor: [] for sensor in sensor_names}\n",
        "for i in range(len(strdata)):\n",
        "    sensor_name = strdata[i][0]  # Get the sensor name\n",
        "    if sensor_name in sensor_lists:\n",
        "        sensor_lists[sensor_name].append(new_array[i])\n",
        "\n",
        "sens_dict = {}\n",
        "for i in sensor_lists:\n",
        "    temp = sensor_lists[i]\n",
        "    sens_dict[i] = np.array(temp)\n"
      ]
    },
    {
      "cell_type": "code",
      "execution_count": null,
      "metadata": {
        "id": "Wivp_WHmY9Z5"
      },
      "outputs": [],
      "source": [
        "sensor_scaler = {}\n",
        "for i in sensor_names:\n",
        "    tempdata = sens_dict[i]\n",
        "    scaler = StandardScaler()\n",
        "    scaler.fit(tempdata[:,0:47])\n",
        "    sensor_scaler[i] = scaler"
      ]
    },
    {
      "cell_type": "code",
      "execution_count": null,
      "metadata": {
        "id": "-wiT_0I7Jobg"
      },
      "outputs": [],
      "source": [
        "model_dict = {}\n",
        "\n",
        "for i in sensor_names:\n",
        "    neigh = NearestNeighbors(n_neighbors=10, radius=0.1)\n",
        "    tempdata = sens_dict[i][:,0:47]\n",
        "    tempsc = sensor_scaler[i].transform(tempdata)\n",
        "    neigh.fit(tempsc)\n",
        "    model_dict[i] = neigh"
      ]
    },
    {
      "cell_type": "code",
      "execution_count": null,
      "metadata": {
        "id": "uhEKTanY66NO"
      },
      "outputs": [],
      "source": [
        "test_data = pd.read_csv('Test.csv')\n",
        "inputY = test_data.to_numpy()\n",
        "\n",
        "numdataY = inputY[:,0:len(inputY[0])-2]\n",
        "strdataY = inputY[:,-2:]\n",
        "numdataY = numdataY.astype(float)"
      ]
    },
    {
      "cell_type": "code",
      "execution_count": null,
      "metadata": {
        "colab": {
          "base_uri": "https://localhost:8080/"
        },
        "id": "hLRzx3Dj66J5",
        "outputId": "8de16490-fdc5-4f34-ef22-b1b314b11c71"
      },
      "outputs": [
        {
          "output_type": "stream",
          "name": "stdout",
          "text": [
            "(342000, 47)\n"
          ]
        }
      ],
      "source": [
        "temp_frame = cree(numdataY)\n",
        "transformed_inputY = temp_frame.to_numpy()\n",
        "transformed_inputY = transformed_inputY.T\n",
        "print(transformed_inputY.shape)"
      ]
    },
    {
      "cell_type": "code",
      "execution_count": null,
      "metadata": {
        "id": "QoL52TLrP_PC"
      },
      "outputs": [],
      "source": [
        "conv = {}\n",
        "idx = 0\n",
        "for i in inputX[:,-1]:\n",
        "    if i not in conv:\n",
        "        conv[i] = idx\n",
        "        idx+=1"
      ]
    },
    {
      "cell_type": "code",
      "execution_count": null,
      "metadata": {
        "id": "ECczFv3UPoxL"
      },
      "outputs": [],
      "source": [
        "def func(sensor, num_val):\n",
        "    temp = num_val.reshape(1,-1)\n",
        "    tempsc = sensor_scaler[sensor].transform(temp)\n",
        "    idx_list = model_dict[sensor].kneighbors(tempsc)[1]\n",
        "    str_list = []\n",
        "    for i in idx_list[0]:\n",
        "        row = sens_dict[sensor][i]\n",
        "        str_list.append(row[-1])\n",
        "\n",
        "    final_label = None\n",
        "    max_count = 0\n",
        "    temp_dict = {}\n",
        "\n",
        "    for i in str_list:\n",
        "        if i in temp_dict:\n",
        "            temp_dict[i] += 1\n",
        "        else:\n",
        "            temp_dict[i] = 1\n",
        "\n",
        "        if temp_dict[i] > max_count:\n",
        "            max_count = temp_dict[i]\n",
        "            final_label = i\n",
        "    return conv[final_label]\n"
      ]
    },
    {
      "cell_type": "code",
      "execution_count": null,
      "metadata": {
        "id": "ahbIIBNW66Ii"
      },
      "outputs": [],
      "source": [
        "id_keeper = []\n",
        "target_keeper = []\n",
        "\n",
        "for i in range(68400):\n",
        "    num_val = transformed_inputY[i]\n",
        "    sensor = strdataY[i][0]\n",
        "    id_keeper.append(strdataY[i][1])\n",
        "    target_keeper.append(func(sensor,num_val))\n"
      ]
    },
    {
      "cell_type": "code",
      "execution_count": null,
      "metadata": {
        "id": "av3vqL5XRzqj"
      },
      "outputs": [],
      "source": [
        "output = pd.DataFrame({'ID': id_keeper, 'TARGET': target_keeper})\n",
        "output.to_csv('submission.csv', index=False)"
      ]
    }
  ],
  "metadata": {
    "accelerator": "GPU",
    "colab": {
      "provenance": []
    },
    "kernelspec": {
      "display_name": "Python 3",
      "name": "python3"
    },
    "language_info": {
      "name": "python"
    }
  },
  "nbformat": 4,
  "nbformat_minor": 0
}